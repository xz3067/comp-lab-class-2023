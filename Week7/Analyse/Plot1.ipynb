{
 "cells": [
  {
   "cell_type": "code",
   "execution_count": null,
   "metadata": {},
   "outputs": [],
   "source": [
    "import mdtraj as md\n",
    "import numpy as np\n",
    "import matplotlib.pyplot as plt\n",
    "\n",
    "# Load the trajectory file\n",
    "traj = md.load(\"adpT.trr\", top=\"adpT.gro\")\n",
    "\n",
    "phi_indices, phi_angles=md.compute_phi(traj)\n",
    "psi_indices, psi_angles=md.compute_psi(traj)\n",
    "\n",
    "# Create a time array for the x-axis\n",
    "time = np.arange(traj.n_frames) * traj.timestep\n",
    "\n",
    "# Plot phi vs time\n",
    "plt.figure(figsize=(12, 4))\n",
    "plt.subplot(1, 2, 1)\n",
    "plt.plot(time, phi_indices)\n",
    "plt.xlabel(\"Time (ps)\")\n",
    "plt.ylabel(\"Phi Dihedral Angle (degrees)\")\n",
    "plt.title(\"Phi vs Time\")\n",
    "\n",
    "# Plot psi vs time\n",
    "plt.subplot(1, 2, 2)\n",
    "plt.plot(time, psi_indices)\n",
    "plt.xlabel(\"Time (ps)\")\n",
    "plt.ylabel(\"Psi Dihedral Angle (degrees)\")\n",
    "plt.title(\"Psi vs Time\")\n",
    "plt.savefig('../Figures/phi_psi.png')\n",
    "plt.tight_layout()\n",
    "plt.show()\n"
   ]
  }
 ],
 "metadata": {
  "kernelspec": {
   "display_name": "Python 3",
   "language": "python",
   "name": "python3"
  },
  "language_info": {
   "name": "python",
   "version": "3.6.8"
  }
 },
 "nbformat": 4,
 "nbformat_minor": 2
}
