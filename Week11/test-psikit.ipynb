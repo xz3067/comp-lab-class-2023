{
 "cells": [
  {
   "cell_type": "code",
   "execution_count": 1,
   "metadata": {},
   "outputs": [
    {
     "name": "stdout",
     "output_type": "stream",
     "text": [
      "\n",
      "  Memory set to  11.176 GiB by Python driver.\n",
      "  Threads set to 1 by Python driver.\n",
      "SCF Energy:  -230.71227965267587\n",
      "HOMO:  -0.32848520376992946\n",
      "LUMO:  0.14565220772826254\n",
      "SCF Total Dipole Moment: 0.0\n"
     ]
    }
   ],
   "source": [
    "from psikit import Psikit\n",
    "pk=Psikit(debug=True,threads=1,memory=12)\n",
    "pk.read_from_smiles(\"c1ccccc1\")\n",
    "print(\"SCF Energy: \", pk.energy())\n",
    "print(\"HOMO: \", pk.HOMO)\n",
    "print(\"LUMO: \", pk.LUMO)\n",
    "x, y, z, total = pk.dipolemoment\n",
    "print(\"SCF Total Dipole Moment: {}\".format(total))\n",
    "# SCF Energy:  -230.712279648862\n",
    "# HOMO:  -0.32848562009092513\n",
    "# LUMO:  0.1456515222506689\n",
    "# SCF Total Dipole Moment: 3.292464934070545e-05"
   ]
  },
  {
   "cell_type": "code",
   "execution_count": 2,
   "metadata": {},
   "outputs": [
    {
     "name": "stdout",
     "output_type": "stream",
     "text": [
      "Optimizer: Optimization complete!\n",
      "Optimized SCF Energy:  -230.71352354163952\n"
     ]
    }
   ],
   "source": [
    "pk=Psikit(debug=True,threads=1,memory=12)\n",
    "pk.read_from_smiles(\"c1ccccc1\")\n",
    "print(\"Optimized SCF Energy: \", pk.optimize())\n",
    "# Optimizer: Optimization complete!\n",
    "# Optimized SCF Energy:  -230.71352354223438"
   ]
  },
  {
   "cell_type": "code",
   "execution_count": 3,
   "metadata": {},
   "outputs": [
    {
     "name": "stdout",
     "output_type": "stream",
     "text": [
      "Optimizer: Optimization complete!\n",
      "C ESP:-0.28288260003115817\tRESP:-0.26657462937414306\n",
      "C ESP:0.80609513593864912\tRESP:0.80609513593864912\n",
      "O ESP:-0.60321681619563994\tRESP:-0.60321681619563994\n",
      "O ESP:-0.66462636173534551\tRESP:-0.66462636173534539\n",
      "H ESP:0.096663686710498853\tRESP:0.091227696491493773\n",
      "H ESP:0.096663686710498853\tRESP:0.091227696491493773\n",
      "H ESP:0.096663686710498853\tRESP:0.091227696491493773\n",
      "H ESP:0.45463958189199799\tRESP:0.45463958189199793\n",
      "Optimizer: Optimization complete!\n"
     ]
    },
    {
     "data": {
      "text/plain": [
       "array([-0.29413439,  0.33178748, -0.3496179 , -0.29234542,  0.12067824,\n",
       "        0.12156136,  0.12482943,  0.23724121])"
      ]
     },
     "execution_count": 3,
     "metadata": {},
     "output_type": "execute_result"
    }
   ],
   "source": [
    "# REF http://ambermd.org/tutorials/advanced/tutorial1/files/resp_paper_jacs.pdf\n",
    "pk=Psikit(debug=True,threads=1,memory=12)\n",
    "pk.read_from_smiles(\"CC(=O)O\")\n",
    "pk.optimize()\n",
    "# Optimizer: Optimization complete!\n",
    "# -227.82180859253418\n",
    "pk.calc_resp_charges()\n",
    "# array([-0.32506898,  0.83672649, -0.61924915, -0.66135715,  0.10450057,\n",
    "#    0.10478188,  0.10780051,  0.45186584])\n",
    "\n",
    "for atom in pk.mol.GetAtoms(): \n",
    "    print(atom.GetSymbol(), \"ESP:{}\\tRESP:{}\".format(atom.GetProp(\"EP\"), atom.GetProp(\"RESP\"))) \n",
    "\n",
    "# C ESP:-0.49662019588648315\tRESP:-0.3250689814483399\n",
    "# C ESP:0.91473263536048643\t\tRESP:0.83672648554100837\n",
    "# O ESP:-0.63823808477114718\tRESP:-0.61924915363703359\n",
    "# O ESP:-0.6763331997116846\t\tRESP:-0.66135714989354499\n",
    "# H ESP:0.14625849864628995\t\tRESP:0.10450056830656008\n",
    "# H ESP:0.14578513969681847\t\tRESP:0.10478187811883517\n",
    "# H ESP:0.1530843954112609\t\tRESP:0.1078005104750676\n",
    "# H ESP:0.45133081125445906\t\tRESP:0.45186584253744722\n",
    "\n",
    "### Compute Mulliken charges and Lowdin charges\n",
    "\n",
    "pk = Psikit()\n",
    "pk.read_from_smiles(\"CC(=O)O\")\n",
    "pk.optimize() # or pk.energy()\n",
    "\n",
    "pk.calc_mulliken_charges()\n",
    "# array([-0.42203029,  0.72794785, -0.55419051, -0.59333358,  0.16369722,\n",
    "#    0.1636994 ,  0.15462075,  0.35958916])\n",
    "\n",
    "pk.calc_lowdin_charges()\n",
    "#array([-0.30006577,  0.33900448, -0.35983788, -0.28463832,  0.12439944,\n",
    "#    0.12810672,  0.11935266,  0.23367866])"
   ]
  },
  {
   "cell_type": "code",
   "execution_count": 4,
   "metadata": {},
   "outputs": [
    {
     "name": "stdout",
     "output_type": "stream",
     "text": [
      "Optimizer: Optimization complete!\n"
     ]
    },
    {
     "ename": "ConnectionRefusedError",
     "evalue": "[Errno 111] Connection refused",
     "output_type": "error",
     "traceback": [
      "\u001b[0;31m---------------------------------------------------------------------------\u001b[0m",
      "\u001b[0;31mConnectionRefusedError\u001b[0m                    Traceback (most recent call last)",
      "\u001b[1;32m/home/xz4366/comp-lab-class-2023/Week11/test-psikit.ipynb 单元格 4\u001b[0m line \u001b[0;36m5\n\u001b[1;32m      <a href='vscode-notebook-cell://ssh-remote%2Bgreene-computational/home/xz4366/comp-lab-class-2023/Week11/test-psikit.ipynb#W3sdnNjb2RlLXJlbW90ZQ%3D%3D?line=2'>3</a>\u001b[0m pk\u001b[39m.\u001b[39mread_from_smiles(\u001b[39m\"\u001b[39m\u001b[39mc1ccccc1\u001b[39m\u001b[39m\"\u001b[39m)\n\u001b[1;32m      <a href='vscode-notebook-cell://ssh-remote%2Bgreene-computational/home/xz4366/comp-lab-class-2023/Week11/test-psikit.ipynb#W3sdnNjb2RlLXJlbW90ZQ%3D%3D?line=3'>4</a>\u001b[0m pk\u001b[39m.\u001b[39moptimize(basis_sets\u001b[39m=\u001b[39m\u001b[39m\"\u001b[39m\u001b[39mscf/sto-3g\u001b[39m\u001b[39m\"\u001b[39m)\n\u001b[0;32m----> <a href='vscode-notebook-cell://ssh-remote%2Bgreene-computational/home/xz4366/comp-lab-class-2023/Week11/test-psikit.ipynb#W3sdnNjb2RlLXJlbW90ZQ%3D%3D?line=4'>5</a>\u001b[0m pk\u001b[39m.\u001b[39;49mview_on_pymol()\n",
      "File \u001b[0;32m/ext3/miniconda3/lib/python3.9/site-packages/psikit/psikit.py:129\u001b[0m, in \u001b[0;36mPsikit.view_on_pymol\u001b[0;34m(self, target, maprange, gridspace)\u001b[0m\n\u001b[1;32m    127\u001b[0m \u001b[39mdef\u001b[39;00m \u001b[39mview_on_pymol\u001b[39m(\u001b[39mself\u001b[39m, target\u001b[39m=\u001b[39m\u001b[39m'\u001b[39m\u001b[39mFRONTIER\u001b[39m\u001b[39m'\u001b[39m, maprange\u001b[39m=\u001b[39m\u001b[39m0.05\u001b[39m, gridspace\u001b[39m=\u001b[39m\u001b[39m0.3\u001b[39m):\n\u001b[1;32m    128\u001b[0m     \u001b[39mself\u001b[39m\u001b[39m.\u001b[39mcreate_cube_files(gridspace\u001b[39m=\u001b[39mgridspace)\n\u001b[0;32m--> 129\u001b[0m     run_pymol_server(\u001b[39mself\u001b[39;49m\u001b[39m.\u001b[39;49mtempdir, target\u001b[39m=\u001b[39;49mtarget, maprange\u001b[39m=\u001b[39;49mmaprange)\n",
      "File \u001b[0;32m/ext3/miniconda3/lib/python3.9/site-packages/psikit/pymol_helper.py:16\u001b[0m, in \u001b[0;36mrun_pymol_server\u001b[0;34m(tmpdir, target, maprange)\u001b[0m\n\u001b[1;32m     14\u001b[0m \u001b[39mimport\u001b[39;00m \u001b[39mxmlrpc\u001b[39;00m\u001b[39m.\u001b[39;00m\u001b[39mclient\u001b[39;00m \u001b[39mas\u001b[39;00m \u001b[39mxmlrpc\u001b[39;00m\n\u001b[1;32m     15\u001b[0m srv \u001b[39m=\u001b[39m xmlrpc\u001b[39m.\u001b[39mServerProxy(\u001b[39m'\u001b[39m\u001b[39mhttp://localhost:9123\u001b[39m\u001b[39m'\u001b[39m)\n\u001b[0;32m---> 16\u001b[0m srv\u001b[39m.\u001b[39;49mdo(\u001b[39m'\u001b[39;49m\u001b[39mdelete *\u001b[39;49m\u001b[39m'\u001b[39;49m)\n\u001b[1;32m     17\u001b[0m srv\u001b[39m.\u001b[39mdo(\u001b[39m'\u001b[39m\u001b[39mload \u001b[39m\u001b[39m'\u001b[39m\u001b[39m+\u001b[39mos\u001b[39m.\u001b[39mpath\u001b[39m.\u001b[39mjoin(tmpdir, \u001b[39m'\u001b[39m\u001b[39mtarget.mol\u001b[39m\u001b[39m'\u001b[39m))\n\u001b[1;32m     18\u001b[0m srv\u001b[39m.\u001b[39mdo(\u001b[39m'\u001b[39m\u001b[39mas sticks, target\u001b[39m\u001b[39m'\u001b[39m)\n",
      "File \u001b[0;32m/ext3/miniconda3/lib/python3.9/xmlrpc/client.py:1122\u001b[0m, in \u001b[0;36m_Method.__call__\u001b[0;34m(self, *args)\u001b[0m\n\u001b[1;32m   1121\u001b[0m \u001b[39mdef\u001b[39;00m \u001b[39m__call__\u001b[39m(\u001b[39mself\u001b[39m, \u001b[39m*\u001b[39margs):\n\u001b[0;32m-> 1122\u001b[0m     \u001b[39mreturn\u001b[39;00m \u001b[39mself\u001b[39;49m\u001b[39m.\u001b[39;49m__send(\u001b[39mself\u001b[39;49m\u001b[39m.\u001b[39;49m__name, args)\n",
      "File \u001b[0;32m/ext3/miniconda3/lib/python3.9/xmlrpc/client.py:1464\u001b[0m, in \u001b[0;36mServerProxy.__request\u001b[0;34m(self, methodname, params)\u001b[0m\n\u001b[1;32m   1458\u001b[0m \u001b[39mdef\u001b[39;00m \u001b[39m__request\u001b[39m(\u001b[39mself\u001b[39m, methodname, params):\n\u001b[1;32m   1459\u001b[0m     \u001b[39m# call a method on the remote server\u001b[39;00m\n\u001b[1;32m   1461\u001b[0m     request \u001b[39m=\u001b[39m dumps(params, methodname, encoding\u001b[39m=\u001b[39m\u001b[39mself\u001b[39m\u001b[39m.\u001b[39m__encoding,\n\u001b[1;32m   1462\u001b[0m                     allow_none\u001b[39m=\u001b[39m\u001b[39mself\u001b[39m\u001b[39m.\u001b[39m__allow_none)\u001b[39m.\u001b[39mencode(\u001b[39mself\u001b[39m\u001b[39m.\u001b[39m__encoding, \u001b[39m'\u001b[39m\u001b[39mxmlcharrefreplace\u001b[39m\u001b[39m'\u001b[39m)\n\u001b[0;32m-> 1464\u001b[0m     response \u001b[39m=\u001b[39m \u001b[39mself\u001b[39;49m\u001b[39m.\u001b[39;49m__transport\u001b[39m.\u001b[39;49mrequest(\n\u001b[1;32m   1465\u001b[0m         \u001b[39mself\u001b[39;49m\u001b[39m.\u001b[39;49m__host,\n\u001b[1;32m   1466\u001b[0m         \u001b[39mself\u001b[39;49m\u001b[39m.\u001b[39;49m__handler,\n\u001b[1;32m   1467\u001b[0m         request,\n\u001b[1;32m   1468\u001b[0m         verbose\u001b[39m=\u001b[39;49m\u001b[39mself\u001b[39;49m\u001b[39m.\u001b[39;49m__verbose\n\u001b[1;32m   1469\u001b[0m         )\n\u001b[1;32m   1471\u001b[0m     \u001b[39mif\u001b[39;00m \u001b[39mlen\u001b[39m(response) \u001b[39m==\u001b[39m \u001b[39m1\u001b[39m:\n\u001b[1;32m   1472\u001b[0m         response \u001b[39m=\u001b[39m response[\u001b[39m0\u001b[39m]\n",
      "File \u001b[0;32m/ext3/miniconda3/lib/python3.9/xmlrpc/client.py:1166\u001b[0m, in \u001b[0;36mTransport.request\u001b[0;34m(self, host, handler, request_body, verbose)\u001b[0m\n\u001b[1;32m   1164\u001b[0m \u001b[39mfor\u001b[39;00m i \u001b[39min\u001b[39;00m (\u001b[39m0\u001b[39m, \u001b[39m1\u001b[39m):\n\u001b[1;32m   1165\u001b[0m     \u001b[39mtry\u001b[39;00m:\n\u001b[0;32m-> 1166\u001b[0m         \u001b[39mreturn\u001b[39;00m \u001b[39mself\u001b[39;49m\u001b[39m.\u001b[39;49msingle_request(host, handler, request_body, verbose)\n\u001b[1;32m   1167\u001b[0m     \u001b[39mexcept\u001b[39;00m http\u001b[39m.\u001b[39mclient\u001b[39m.\u001b[39mRemoteDisconnected:\n\u001b[1;32m   1168\u001b[0m         \u001b[39mif\u001b[39;00m i:\n",
      "File \u001b[0;32m/ext3/miniconda3/lib/python3.9/xmlrpc/client.py:1178\u001b[0m, in \u001b[0;36mTransport.single_request\u001b[0;34m(self, host, handler, request_body, verbose)\u001b[0m\n\u001b[1;32m   1175\u001b[0m \u001b[39mdef\u001b[39;00m \u001b[39msingle_request\u001b[39m(\u001b[39mself\u001b[39m, host, handler, request_body, verbose\u001b[39m=\u001b[39m\u001b[39mFalse\u001b[39;00m):\n\u001b[1;32m   1176\u001b[0m     \u001b[39m# issue XML-RPC request\u001b[39;00m\n\u001b[1;32m   1177\u001b[0m     \u001b[39mtry\u001b[39;00m:\n\u001b[0;32m-> 1178\u001b[0m         http_conn \u001b[39m=\u001b[39m \u001b[39mself\u001b[39;49m\u001b[39m.\u001b[39;49msend_request(host, handler, request_body, verbose)\n\u001b[1;32m   1179\u001b[0m         resp \u001b[39m=\u001b[39m http_conn\u001b[39m.\u001b[39mgetresponse()\n\u001b[1;32m   1180\u001b[0m         \u001b[39mif\u001b[39;00m resp\u001b[39m.\u001b[39mstatus \u001b[39m==\u001b[39m \u001b[39m200\u001b[39m:\n",
      "File \u001b[0;32m/ext3/miniconda3/lib/python3.9/xmlrpc/client.py:1291\u001b[0m, in \u001b[0;36mTransport.send_request\u001b[0;34m(self, host, handler, request_body, debug)\u001b[0m\n\u001b[1;32m   1289\u001b[0m headers\u001b[39m.\u001b[39mappend((\u001b[39m\"\u001b[39m\u001b[39mUser-Agent\u001b[39m\u001b[39m\"\u001b[39m, \u001b[39mself\u001b[39m\u001b[39m.\u001b[39muser_agent))\n\u001b[1;32m   1290\u001b[0m \u001b[39mself\u001b[39m\u001b[39m.\u001b[39msend_headers(connection, headers)\n\u001b[0;32m-> 1291\u001b[0m \u001b[39mself\u001b[39;49m\u001b[39m.\u001b[39;49msend_content(connection, request_body)\n\u001b[1;32m   1292\u001b[0m \u001b[39mreturn\u001b[39;00m connection\n",
      "File \u001b[0;32m/ext3/miniconda3/lib/python3.9/xmlrpc/client.py:1321\u001b[0m, in \u001b[0;36mTransport.send_content\u001b[0;34m(self, connection, request_body)\u001b[0m\n\u001b[1;32m   1318\u001b[0m     request_body \u001b[39m=\u001b[39m gzip_encode(request_body)\n\u001b[1;32m   1320\u001b[0m connection\u001b[39m.\u001b[39mputheader(\u001b[39m\"\u001b[39m\u001b[39mContent-Length\u001b[39m\u001b[39m\"\u001b[39m, \u001b[39mstr\u001b[39m(\u001b[39mlen\u001b[39m(request_body)))\n\u001b[0;32m-> 1321\u001b[0m connection\u001b[39m.\u001b[39;49mendheaders(request_body)\n",
      "File \u001b[0;32m/ext3/miniconda3/lib/python3.9/http/client.py:1280\u001b[0m, in \u001b[0;36mHTTPConnection.endheaders\u001b[0;34m(self, message_body, encode_chunked)\u001b[0m\n\u001b[1;32m   1278\u001b[0m \u001b[39melse\u001b[39;00m:\n\u001b[1;32m   1279\u001b[0m     \u001b[39mraise\u001b[39;00m CannotSendHeader()\n\u001b[0;32m-> 1280\u001b[0m \u001b[39mself\u001b[39;49m\u001b[39m.\u001b[39;49m_send_output(message_body, encode_chunked\u001b[39m=\u001b[39;49mencode_chunked)\n",
      "File \u001b[0;32m/ext3/miniconda3/lib/python3.9/http/client.py:1040\u001b[0m, in \u001b[0;36mHTTPConnection._send_output\u001b[0;34m(self, message_body, encode_chunked)\u001b[0m\n\u001b[1;32m   1038\u001b[0m msg \u001b[39m=\u001b[39m \u001b[39mb\u001b[39m\u001b[39m\"\u001b[39m\u001b[39m\\r\u001b[39;00m\u001b[39m\\n\u001b[39;00m\u001b[39m\"\u001b[39m\u001b[39m.\u001b[39mjoin(\u001b[39mself\u001b[39m\u001b[39m.\u001b[39m_buffer)\n\u001b[1;32m   1039\u001b[0m \u001b[39mdel\u001b[39;00m \u001b[39mself\u001b[39m\u001b[39m.\u001b[39m_buffer[:]\n\u001b[0;32m-> 1040\u001b[0m \u001b[39mself\u001b[39;49m\u001b[39m.\u001b[39;49msend(msg)\n\u001b[1;32m   1042\u001b[0m \u001b[39mif\u001b[39;00m message_body \u001b[39mis\u001b[39;00m \u001b[39mnot\u001b[39;00m \u001b[39mNone\u001b[39;00m:\n\u001b[1;32m   1043\u001b[0m \n\u001b[1;32m   1044\u001b[0m     \u001b[39m# create a consistent interface to message_body\u001b[39;00m\n\u001b[1;32m   1045\u001b[0m     \u001b[39mif\u001b[39;00m \u001b[39mhasattr\u001b[39m(message_body, \u001b[39m'\u001b[39m\u001b[39mread\u001b[39m\u001b[39m'\u001b[39m):\n\u001b[1;32m   1046\u001b[0m         \u001b[39m# Let file-like take precedence over byte-like.  This\u001b[39;00m\n\u001b[1;32m   1047\u001b[0m         \u001b[39m# is needed to allow the current position of mmap'ed\u001b[39;00m\n\u001b[1;32m   1048\u001b[0m         \u001b[39m# files to be taken into account.\u001b[39;00m\n",
      "File \u001b[0;32m/ext3/miniconda3/lib/python3.9/http/client.py:980\u001b[0m, in \u001b[0;36mHTTPConnection.send\u001b[0;34m(self, data)\u001b[0m\n\u001b[1;32m    978\u001b[0m \u001b[39mif\u001b[39;00m \u001b[39mself\u001b[39m\u001b[39m.\u001b[39msock \u001b[39mis\u001b[39;00m \u001b[39mNone\u001b[39;00m:\n\u001b[1;32m    979\u001b[0m     \u001b[39mif\u001b[39;00m \u001b[39mself\u001b[39m\u001b[39m.\u001b[39mauto_open:\n\u001b[0;32m--> 980\u001b[0m         \u001b[39mself\u001b[39;49m\u001b[39m.\u001b[39;49mconnect()\n\u001b[1;32m    981\u001b[0m     \u001b[39melse\u001b[39;00m:\n\u001b[1;32m    982\u001b[0m         \u001b[39mraise\u001b[39;00m NotConnected()\n",
      "File \u001b[0;32m/ext3/miniconda3/lib/python3.9/http/client.py:946\u001b[0m, in \u001b[0;36mHTTPConnection.connect\u001b[0;34m(self)\u001b[0m\n\u001b[1;32m    944\u001b[0m \u001b[39mdef\u001b[39;00m \u001b[39mconnect\u001b[39m(\u001b[39mself\u001b[39m):\n\u001b[1;32m    945\u001b[0m     \u001b[39m\"\"\"Connect to the host and port specified in __init__.\"\"\"\u001b[39;00m\n\u001b[0;32m--> 946\u001b[0m     \u001b[39mself\u001b[39m\u001b[39m.\u001b[39msock \u001b[39m=\u001b[39m \u001b[39mself\u001b[39;49m\u001b[39m.\u001b[39;49m_create_connection(\n\u001b[1;32m    947\u001b[0m         (\u001b[39mself\u001b[39;49m\u001b[39m.\u001b[39;49mhost,\u001b[39mself\u001b[39;49m\u001b[39m.\u001b[39;49mport), \u001b[39mself\u001b[39;49m\u001b[39m.\u001b[39;49mtimeout, \u001b[39mself\u001b[39;49m\u001b[39m.\u001b[39;49msource_address)\n\u001b[1;32m    948\u001b[0m     \u001b[39m# Might fail in OSs that don't implement TCP_NODELAY\u001b[39;00m\n\u001b[1;32m    949\u001b[0m     \u001b[39mtry\u001b[39;00m:\n",
      "File \u001b[0;32m/ext3/miniconda3/lib/python3.9/socket.py:844\u001b[0m, in \u001b[0;36mcreate_connection\u001b[0;34m(address, timeout, source_address)\u001b[0m\n\u001b[1;32m    842\u001b[0m \u001b[39mif\u001b[39;00m err \u001b[39mis\u001b[39;00m \u001b[39mnot\u001b[39;00m \u001b[39mNone\u001b[39;00m:\n\u001b[1;32m    843\u001b[0m     \u001b[39mtry\u001b[39;00m:\n\u001b[0;32m--> 844\u001b[0m         \u001b[39mraise\u001b[39;00m err\n\u001b[1;32m    845\u001b[0m     \u001b[39mfinally\u001b[39;00m:\n\u001b[1;32m    846\u001b[0m         \u001b[39m# Break explicitly a reference cycle\u001b[39;00m\n\u001b[1;32m    847\u001b[0m         err \u001b[39m=\u001b[39m \u001b[39mNone\u001b[39;00m\n",
      "File \u001b[0;32m/ext3/miniconda3/lib/python3.9/socket.py:832\u001b[0m, in \u001b[0;36mcreate_connection\u001b[0;34m(address, timeout, source_address)\u001b[0m\n\u001b[1;32m    830\u001b[0m \u001b[39mif\u001b[39;00m source_address:\n\u001b[1;32m    831\u001b[0m     sock\u001b[39m.\u001b[39mbind(source_address)\n\u001b[0;32m--> 832\u001b[0m sock\u001b[39m.\u001b[39;49mconnect(sa)\n\u001b[1;32m    833\u001b[0m \u001b[39m# Break explicitly a reference cycle\u001b[39;00m\n\u001b[1;32m    834\u001b[0m err \u001b[39m=\u001b[39m \u001b[39mNone\u001b[39;00m\n",
      "\u001b[0;31mConnectionRefusedError\u001b[0m: [Errno 111] Connection refused"
     ]
    }
   ],
   "source": [
    "from psikit import Psikit\n",
    "pk=Psikit(debug=True,threads=1,memory=12)\n",
    "pk.read_from_smiles(\"c1ccccc1\")\n",
    "pk.optimize(basis_sets=\"scf/sto-3g\")\n",
    "pk.view_on_pymol() # launch pymol as a RPC server in advance, just type \"pymol -R\""
   ]
  },
  {
   "cell_type": "code",
   "execution_count": 5,
   "metadata": {},
   "outputs": [
    {
     "ename": "NameError",
     "evalue": "name 'your_mol_object' is not defined",
     "output_type": "error",
     "traceback": [
      "\u001b[0;31m---------------------------------------------------------------------------\u001b[0m",
      "\u001b[0;31mNameError\u001b[0m                                 Traceback (most recent call last)",
      "\u001b[1;32m/home/xz4366/comp-lab-class-2023/Week11/test-psikit.ipynb 单元格 5\u001b[0m line \u001b[0;36m3\n\u001b[1;32m      <a href='vscode-notebook-cell://ssh-remote%2Bgreene-computational/home/xz4366/comp-lab-class-2023/Week11/test-psikit.ipynb#W4sdnNjb2RlLXJlbW90ZQ%3D%3D?line=0'>1</a>\u001b[0m \u001b[39mfrom\u001b[39;00m \u001b[39mpsikit\u001b[39;00m \u001b[39mimport\u001b[39;00m Psikit\n\u001b[1;32m      <a href='vscode-notebook-cell://ssh-remote%2Bgreene-computational/home/xz4366/comp-lab-class-2023/Week11/test-psikit.ipynb#W4sdnNjb2RlLXJlbW90ZQ%3D%3D?line=1'>2</a>\u001b[0m pk\u001b[39m=\u001b[39mPsikit(debug\u001b[39m=\u001b[39m\u001b[39mTrue\u001b[39;00m,threads\u001b[39m=\u001b[39m\u001b[39m1\u001b[39m,memory\u001b[39m=\u001b[39m\u001b[39m12\u001b[39m)\n\u001b[0;32m----> <a href='vscode-notebook-cell://ssh-remote%2Bgreene-computational/home/xz4366/comp-lab-class-2023/Week11/test-psikit.ipynb#W4sdnNjb2RlLXJlbW90ZQ%3D%3D?line=2'>3</a>\u001b[0m pk\u001b[39m.\u001b[39mmol \u001b[39m=\u001b[39m your_mol_object\n",
      "\u001b[0;31mNameError\u001b[0m: name 'your_mol_object' is not defined"
     ]
    }
   ],
   "source": [
    "from psikit import Psikit\n",
    "pk=Psikit(debug=True,threads=1,memory=12)\n",
    "pk.mol = your_mol_object"
   ]
  },
  {
   "cell_type": "code",
   "execution_count": null,
   "metadata": {},
   "outputs": [],
   "source": []
  }
 ],
 "metadata": {
  "kernelspec": {
   "display_name": "lab_env_2023",
   "language": "python",
   "name": "lab_env_2023"
  },
  "language_info": {
   "codemirror_mode": {
    "name": "ipython",
    "version": 3
   },
   "file_extension": ".py",
   "mimetype": "text/x-python",
   "name": "python",
   "nbconvert_exporter": "python",
   "pygments_lexer": "ipython3",
   "version": "3.9.12"
  }
 },
 "nbformat": 4,
 "nbformat_minor": 2
}
