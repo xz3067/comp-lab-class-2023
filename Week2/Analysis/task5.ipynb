{
 "cells": [
  {
   "cell_type": "code",
   "execution_count": 2,
   "metadata": {},
   "outputs": [],
   "source": [
    "# this notebook is for plotting \n",
    "# Make a jupyter notebook that uses mdtraj to\n",
    "# a) read in the ubiquitin structure\n",
    "# b) print the total number of hydrogen bonds\n",
    "# c) compute the number of helical amino acids\n",
    "import numpy as np\n",
    "import matplotlib.pyplot as plt\n",
    "#load mdtraj\n",
    "import mdtraj as md\n",
    "import os\n",
    "os.chdir('/home/xz3067/comp-lab-class/comp-lab-class-2023/Week2/Analysis')\n"
   ]
  },
  {
   "cell_type": "code",
   "execution_count": 3,
   "metadata": {},
   "outputs": [
    {
     "name": "stdout",
     "output_type": "stream",
     "text": [
      "Total number of hydrogen bonds: 0\n",
      "Number of helical amino acids: 0\n"
     ]
    }
   ],
   "source": [
    "# Load your PDB file\n",
    "#pdb_file = \"/home/xz3067/comp-lab-class/comp-lab-class-2023/Week2/Data/1UBQ_processed.pdb\"\n",
    "pdb_file = \"/home/xz3067/comp-lab-class/comp-lab-class-2023/Week2/Data/1UBQ.pdb\"\n",
    "traj = md.load(pdb_file)\n",
    "# Define a function to calculate hydrogen bonds\n",
    "def calculate_hydrogen_bonds(traj):\n",
    "    hbonds = md.baker_hubbard(traj, freq=1.0)\n",
    "    return hbonds\n",
    "\n",
    "# Calculate hydrogen bonds\n",
    "hbonds = calculate_hydrogen_bonds(traj)\n",
    "\n",
    "# Calculate the total number of hydrogen bonds in the trajectory\n",
    "total_hbonds = sum([len(frame) for frame in hbonds])\n",
    "\n",
    "# Print the total number of hydrogen bonds\n",
    "print(\"Total number of hydrogen bonds:\", total_hbonds)\n",
    "phi_indices, phi_angles = md.compute_phi(traj)\n",
    "psi_indices, psi_angles = md.compute_psi(traj)\n",
    "helical_residues = []\n",
    "\n",
    "for i in range(len(traj)):\n",
    "    is_helical = True\n",
    "    for phi, psi in zip(phi_angles[i], psi_angles[i]):\n",
    "        if not (-60 <= phi <= -40 and -40 <= psi <= -20):\n",
    "            is_helical = False\n",
    "            break\n",
    "    if is_helical:\n",
    "        helical_residues.append(i)\n",
    "num_helical_residues = len(helical_residues)\n",
    "print(f\"Number of helical amino acids: {num_helical_residues}\")"
   ]
  },
  {
   "cell_type": "code",
   "execution_count": null,
   "metadata": {},
   "outputs": [],
   "source": []
  }
 ],
 "metadata": {
  "kernelspec": {
   "display_name": "Python 3",
   "language": "python",
   "name": "python3"
  },
  "language_info": {
   "codemirror_mode": {
    "name": "ipython",
    "version": 3
   },
   "file_extension": ".py",
   "mimetype": "text/x-python",
   "name": "python",
   "nbconvert_exporter": "python",
   "pygments_lexer": "ipython3",
   "version": "3.8.6"
  }
 },
 "nbformat": 4,
 "nbformat_minor": 4
}
