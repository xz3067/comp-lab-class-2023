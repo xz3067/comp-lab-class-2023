{
 "cells": [
  {
   "cell_type": "code",
   "execution_count": 1,
   "metadata": {},
   "outputs": [
    {
     "name": "stdout",
     "output_type": "stream",
     "text": [
      "Defaulting to user installation because normal site-packages is not writeable\n",
      "Requirement already satisfied: mdtraj in /gpfsnyuc7/home/xz3067/.local/lib/python3.6/site-packages (1.9.9)\n",
      "Requirement already satisfied: matplotlib in /usr/local/lib64/python3.6/site-packages (3.3.4)\n",
      "Requirement already satisfied: scipy in /gpfsnyuc7/home/xz3067/.local/lib/python3.6/site-packages (from mdtraj) (1.5.4)\n",
      "Requirement already satisfied: astunparse in /gpfsnyuc7/home/xz3067/.local/lib/python3.6/site-packages (from mdtraj) (1.6.3)\n",
      "Requirement already satisfied: numpy>=1.6 in /usr/local/lib64/python3.6/site-packages (from mdtraj) (1.19.5)\n",
      "Requirement already satisfied: pyparsing in /usr/local/lib/python3.6/site-packages (from mdtraj) (2.4.7)\n",
      "Requirement already satisfied: cycler>=0.10 in /usr/local/lib/python3.6/site-packages (from matplotlib) (0.10.0)\n",
      "Requirement already satisfied: kiwisolver>=1.0.1 in /usr/local/lib64/python3.6/site-packages (from matplotlib) (1.3.1)\n",
      "Requirement already satisfied: python-dateutil>=2.1 in /usr/local/lib/python3.6/site-packages (from matplotlib) (2.8.1)\n",
      "Requirement already satisfied: pillow>=6.2.0 in /usr/local/lib64/python3.6/site-packages (from matplotlib) (8.2.0)\n",
      "Requirement already satisfied: six in /usr/local/lib/python3.6/site-packages (from cycler>=0.10->matplotlib) (1.15.0)\n",
      "Requirement already satisfied: wheel<1.0,>=0.23.0 in /gpfsnyuc7/home/xz3067/.local/lib/python3.6/site-packages (from astunparse->mdtraj) (0.37.1)\n",
      "Note: you may need to restart the kernel to use updated packages.\n"
     ]
    }
   ],
   "source": [
    "pip install mdtraj matplotlib\n"
   ]
  },
  {
   "cell_type": "code",
   "execution_count": 2,
   "metadata": {},
   "outputs": [
    {
     "name": "stdout",
     "output_type": "stream",
     "text": [
      "Defaulting to user installation because normal site-packages is not writeable\n",
      "Requirement already satisfied: mdanalysis in /gpfsnyuc7/home/xz3067/.local/lib/python3.6/site-packages (2.0.0)\n",
      "Requirement already satisfied: matplotlib>=1.5.1 in /usr/local/lib64/python3.6/site-packages (from mdanalysis) (3.3.4)\n",
      "Requirement already satisfied: gsd>=1.4.0 in /gpfsnyuc7/home/xz3067/.local/lib/python3.6/site-packages (from mdanalysis) (2.8.1)\n",
      "Requirement already satisfied: biopython>=1.71 in /gpfsnyuc7/home/xz3067/.local/lib/python3.6/site-packages (from mdanalysis) (1.79)\n",
      "Requirement already satisfied: numpy>=1.16.0 in /usr/local/lib64/python3.6/site-packages (from mdanalysis) (1.19.5)\n",
      "Requirement already satisfied: threadpoolctl in /gpfsnyuc7/home/xz3067/.local/lib/python3.6/site-packages (from mdanalysis) (3.1.0)\n",
      "Requirement already satisfied: scipy>=1.0.0 in /gpfsnyuc7/home/xz3067/.local/lib/python3.6/site-packages (from mdanalysis) (1.5.4)\n",
      "Requirement already satisfied: joblib>=0.12 in /gpfsnyuc7/home/xz3067/.local/lib/python3.6/site-packages (from mdanalysis) (1.1.1)\n",
      "Requirement already satisfied: tqdm>=4.43.0 in /gpfsnyuc7/home/xz3067/.local/lib/python3.6/site-packages (from mdanalysis) (4.64.1)\n",
      "Requirement already satisfied: networkx>=1.0 in /gpfsnyuc7/home/xz3067/.local/lib/python3.6/site-packages (from mdanalysis) (2.5.1)\n",
      "Requirement already satisfied: GridDataFormats>=0.4.0 in /gpfsnyuc7/home/xz3067/.local/lib/python3.6/site-packages (from mdanalysis) (0.7.0)\n",
      "Requirement already satisfied: mmtf-python>=1.0.0 in /gpfsnyuc7/home/xz3067/.local/lib/python3.6/site-packages (from mdanalysis) (1.1.3)\n",
      "Requirement already satisfied: six in /usr/local/lib/python3.6/site-packages (from GridDataFormats>=0.4.0->mdanalysis) (1.15.0)\n",
      "Requirement already satisfied: mrcfile in /gpfsnyuc7/home/xz3067/.local/lib/python3.6/site-packages (from GridDataFormats>=0.4.0->mdanalysis) (1.4.3)\n",
      "Requirement already satisfied: pillow>=6.2.0 in /usr/local/lib64/python3.6/site-packages (from matplotlib>=1.5.1->mdanalysis) (8.2.0)\n",
      "Requirement already satisfied: cycler>=0.10 in /usr/local/lib/python3.6/site-packages (from matplotlib>=1.5.1->mdanalysis) (0.10.0)\n",
      "Requirement already satisfied: python-dateutil>=2.1 in /usr/local/lib/python3.6/site-packages (from matplotlib>=1.5.1->mdanalysis) (2.8.1)\n",
      "Requirement already satisfied: pyparsing!=2.0.4,!=2.1.2,!=2.1.6,>=2.0.3 in /usr/local/lib/python3.6/site-packages (from matplotlib>=1.5.1->mdanalysis) (2.4.7)\n",
      "Requirement already satisfied: kiwisolver>=1.0.1 in /usr/local/lib64/python3.6/site-packages (from matplotlib>=1.5.1->mdanalysis) (1.3.1)\n",
      "Requirement already satisfied: msgpack>=1.0.0 in /gpfsnyuc7/home/xz3067/.local/lib/python3.6/site-packages (from mmtf-python>=1.0.0->mdanalysis) (1.0.5)\n",
      "Requirement already satisfied: decorator<5,>=4.3 in /gpfsnyuc7/home/xz3067/.local/lib/python3.6/site-packages (from networkx>=1.0->mdanalysis) (4.4.2)\n",
      "Requirement already satisfied: importlib-resources in /gpfsnyuc7/home/xz3067/.local/lib/python3.6/site-packages (from tqdm>=4.43.0->mdanalysis) (5.4.0)\n",
      "Requirement already satisfied: zipp>=3.1.0 in /usr/local/lib/python3.6/site-packages (from importlib-resources->tqdm>=4.43.0->mdanalysis) (3.6.0)\n",
      "Note: you may need to restart the kernel to use updated packages.\n"
     ]
    }
   ],
   "source": [
    "pip install mdanalysis\n"
   ]
  },
  {
   "cell_type": "code",
   "execution_count": 2,
   "metadata": {},
   "outputs": [
    {
     "name": "stdout",
     "output_type": "stream",
     "text": [
      "Defaulting to user installation because normal site-packages is not writeable\n",
      "Requirement already satisfied: MDAnalysis in /gpfsnyuc7/home/xz3067/.local/lib/python3.6/site-packages (2.0.0)\n",
      "Requirement already satisfied: gsd>=1.4.0 in /gpfsnyuc7/home/xz3067/.local/lib/python3.6/site-packages (from MDAnalysis) (2.8.1)\n",
      "Requirement already satisfied: numpy>=1.16.0 in /usr/local/lib64/python3.6/site-packages (from MDAnalysis) (1.19.5)\n",
      "Requirement already satisfied: scipy>=1.0.0 in /gpfsnyuc7/home/xz3067/.local/lib/python3.6/site-packages (from MDAnalysis) (1.5.4)\n",
      "Requirement already satisfied: biopython>=1.71 in /gpfsnyuc7/home/xz3067/.local/lib/python3.6/site-packages (from MDAnalysis) (1.79)\n",
      "Requirement already satisfied: GridDataFormats>=0.4.0 in /gpfsnyuc7/home/xz3067/.local/lib/python3.6/site-packages (from MDAnalysis) (0.7.0)\n",
      "Requirement already satisfied: tqdm>=4.43.0 in /gpfsnyuc7/home/xz3067/.local/lib/python3.6/site-packages (from MDAnalysis) (4.64.1)\n",
      "Requirement already satisfied: mmtf-python>=1.0.0 in /gpfsnyuc7/home/xz3067/.local/lib/python3.6/site-packages (from MDAnalysis) (1.1.3)\n",
      "Requirement already satisfied: matplotlib>=1.5.1 in /usr/local/lib64/python3.6/site-packages (from MDAnalysis) (3.3.4)\n",
      "Requirement already satisfied: threadpoolctl in /gpfsnyuc7/home/xz3067/.local/lib/python3.6/site-packages (from MDAnalysis) (3.1.0)\n",
      "Requirement already satisfied: joblib>=0.12 in /gpfsnyuc7/home/xz3067/.local/lib/python3.6/site-packages (from MDAnalysis) (1.1.1)\n",
      "Requirement already satisfied: networkx>=1.0 in /gpfsnyuc7/home/xz3067/.local/lib/python3.6/site-packages (from MDAnalysis) (2.5.1)\n",
      "Requirement already satisfied: mrcfile in /gpfsnyuc7/home/xz3067/.local/lib/python3.6/site-packages (from GridDataFormats>=0.4.0->MDAnalysis) (1.4.3)\n",
      "Requirement already satisfied: six in /usr/local/lib/python3.6/site-packages (from GridDataFormats>=0.4.0->MDAnalysis) (1.15.0)\n",
      "Requirement already satisfied: python-dateutil>=2.1 in /usr/local/lib/python3.6/site-packages (from matplotlib>=1.5.1->MDAnalysis) (2.8.1)\n",
      "Requirement already satisfied: cycler>=0.10 in /usr/local/lib/python3.6/site-packages (from matplotlib>=1.5.1->MDAnalysis) (0.10.0)\n",
      "Requirement already satisfied: pyparsing!=2.0.4,!=2.1.2,!=2.1.6,>=2.0.3 in /usr/local/lib/python3.6/site-packages (from matplotlib>=1.5.1->MDAnalysis) (2.4.7)\n",
      "Requirement already satisfied: pillow>=6.2.0 in /usr/local/lib64/python3.6/site-packages (from matplotlib>=1.5.1->MDAnalysis) (8.2.0)\n",
      "Requirement already satisfied: kiwisolver>=1.0.1 in /usr/local/lib64/python3.6/site-packages (from matplotlib>=1.5.1->MDAnalysis) (1.3.1)\n",
      "Requirement already satisfied: msgpack>=1.0.0 in /gpfsnyuc7/home/xz3067/.local/lib/python3.6/site-packages (from mmtf-python>=1.0.0->MDAnalysis) (1.0.5)\n",
      "Requirement already satisfied: decorator<5,>=4.3 in /gpfsnyuc7/home/xz3067/.local/lib/python3.6/site-packages (from networkx>=1.0->MDAnalysis) (4.4.2)\n",
      "Requirement already satisfied: importlib-resources in /gpfsnyuc7/home/xz3067/.local/lib/python3.6/site-packages (from tqdm>=4.43.0->MDAnalysis) (5.4.0)\n",
      "Requirement already satisfied: zipp>=3.1.0 in /usr/local/lib/python3.6/site-packages (from importlib-resources->tqdm>=4.43.0->MDAnalysis) (3.6.0)\n",
      "Note: you may need to restart the kernel to use updated packages.\n"
     ]
    }
   ],
   "source": [
    "pip install MDAnalysis\n"
   ]
  },
  {
   "cell_type": "code",
   "execution_count": 5,
   "metadata": {},
   "outputs": [
    {
     "name": "stdout",
     "output_type": "stream",
     "text": [
      "Defaulting to user installation because normal site-packages is not writeable\n",
      "Collecting tidynamics\n",
      "  Downloading tidynamics-1.0.0-py2.py3-none-any.whl (7.7 kB)\n",
      "Requirement already satisfied: numpy in /usr/local/lib64/python3.6/site-packages (from tidynamics) (1.19.5)\n",
      "Installing collected packages: tidynamics\n",
      "Successfully installed tidynamics-1.0.0\n",
      "Note: you may need to restart the kernel to use updated packages.\n"
     ]
    }
   ],
   "source": [
    " pip install tidynamics"
   ]
  },
  {
   "cell_type": "code",
   "execution_count": 6,
   "metadata": {},
   "outputs": [],
   "source": [
    "import matplotlib.pyplot as plt\n",
    "import numpy as np\n",
    "import MDAnalysis as mda\n",
    "from MDAnalysis.analysis.msd import EinsteinMSD"
   ]
  },
  {
   "cell_type": "code",
   "execution_count": 7,
   "metadata": {},
   "outputs": [
    {
     "name": "stderr",
     "output_type": "stream",
     "text": [
      "Exception ignored in: <object repr() failed>\n",
      "Traceback (most recent call last):\n",
      "  File \"/gpfsnyu/home/xz3067/.local/lib/python3.6/site-packages/MDAnalysis/coordinates/base.py\", line 2180, in __del__\n",
      "    self.close()\n",
      "  File \"/gpfsnyu/home/xz3067/.local/lib/python3.6/site-packages/MDAnalysis/coordinates/XDR.py\", line 178, in close\n",
      "    self._xdr.close()\n",
      "AttributeError: 'XTCReader' object has no attribute '_xdr'\n"
     ]
    },
    {
     "data": {
      "image/png": "[encoded data removed]",
      "text/plain": [
       "<Figure size 432x288 with 1 Axes>"
      ]
     },
     "metadata": {
      "needs_background": "light"
     },
     "output_type": "display_data"
    }
   ],
   "source": [
    "universe = mda.Universe('step5_3.gro','unwrapped.xtc')\n",
    "oxygen_atoms = universe.select_atoms('name OH2')  # Adjust selection depending on naming convention in your trajectory\n",
    "sodium = universe.select_atoms('name SOD')  # adjust atom name if different\n",
    "chloride  = universe.select_atoms('name CLA')\n",
    "\n",
    "msd_water_oxygens = EinsteinMSD(oxygen_atoms,msd_type='xyz',fft=True).run()\n",
    "msd_sodium = EinsteinMSD(sodium,msd_type='xyz',fft=True).run()\n",
    "msd_chloride = EinsteinMSD(chloride,msd_type='xyz',fft=True).run()\n",
    "fig=plt.figure()\n",
    "\n",
    "plt.plot(msd_water_oxygens.times,msd_water_oxygens.results.timeseries,label='water_oxygens')\n",
    "plt.plot(msd_sodium.times,msd_sodium.results.timeseries,label='sodium')\n",
    "plt.plot(msd_chloride.times,msd_chloride.results.timeseries,label='chloride')\n",
    "plt.xlabel('Time (ps)')\n",
    "plt.ylabel('MSD (A^2)')\n",
    "plt.legend()\n",
    "\n",
    "# Save the plot to a file (optional)\n",
    "plt.savefig('MSD_vs_Time.png')"
   ]
  }
 ],
 "metadata": {
  "kernelspec": {
   "display_name": "Python 3",
   "language": "python",
   "name": "python3"
  },
  "language_info": {
   "codemirror_mode": {
    "name": "ipython",
    "version": 3
   },
   "file_extension": ".py",
   "mimetype": "text/x-python",
   "name": "python",
   "nbconvert_exporter": "python",
   "pygments_lexer": "ipython3",
   "version": "3.6.8"
  },
  "toc": {
   "base_numbering": 1,
   "nav_menu": {},
   "number_sections": true,
   "sideBar": true,
   "skip_h1_title": false,
   "title_cell": "Table of Contents",
   "title_sidebar": "Contents",
   "toc_cell": false,
   "toc_position": {},
   "toc_section_display": true,
   "toc_window_display": false
  }
 },
 "nbformat": 4,
 "nbformat_minor": 4
}
